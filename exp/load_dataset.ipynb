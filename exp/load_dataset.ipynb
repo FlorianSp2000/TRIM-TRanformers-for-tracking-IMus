{
 "cells": [
  {
   "cell_type": "code",
   "execution_count": 103,
   "id": "9ff42015-a083-476a-a3d1-1bc1eb306488",
   "metadata": {},
   "outputs": [],
   "source": [
    "import os\n",
    "import numpy as np\n",
    "import pandas as pd\n",
    "import torch\n",
    "from torch.utils.data import TensorDataset\n",
    "from tqdm import tqdm"
   ]
  },
  {
   "cell_type": "code",
   "execution_count": 104,
   "id": "5ddf3c32-a7a6-41f4-bc63-93e66b84528f",
   "metadata": {},
   "outputs": [],
   "source": [
    "def load_dataset(data_path):\n",
    "    source_columns = [\"gx(rad/s)\", \"gy(rad/s)\", \"gz(rad/s)\", \"ax(m/s^2)\", \"ay(m/s^2)\", \"az(m/s^2)\"]\n",
    "    target_columns = [\"px\", \"py\", \"pz\"]\n",
    "    \n",
    "    source_sequences = []\n",
    "    target_sequences = []\n",
    "    \n",
    "    for filename in os.listdir(data_path):\n",
    "        if filename.endswith(\".txt\"):\n",
    "            file_path = os.path.join(data_path, filename)\n",
    "        \n",
    "            # Read the file using pandas\n",
    "            df = pd.read_csv(file_path, sep=\" \")\n",
    "            \n",
    "            # Extract required columns\n",
    "            source_data = df[source_columns]\n",
    "            target_data = df[target_columns]\n",
    "        \n",
    "            # Create source sequences of size (100, 6)\n",
    "            for i in range(0, len(source_data) - 50, 50):\n",
    "                source_seq = source_data.iloc[i:i+100, :].values\n",
    "                source_sequences.append(source_seq)\n",
    "        \n",
    "            # Create target sequences of size (100, 3)\n",
    "            for i in range(0, len(target_data) - 50, 50):\n",
    "                target_seq = target_data.iloc[i:i+100, :].values\n",
    "                target_sequences.append(target_seq)\n",
    "        \n",
    "            # Replace the last source sequence with the last 100 entries of the file\n",
    "            last_source_seq = source_data.iloc[-100:, :].values\n",
    "            source_sequences[-1] = last_source_seq\n",
    "    \n",
    "            # Replace the last target sequence with the last 100 entries of the file\n",
    "            last_target_seq = target_data.iloc[-100:, :].values\n",
    "            target_sequences[-1] = last_target_seq\n",
    "    \n",
    "    # Subtract the first row from all rows in each target sequence\n",
    "    target_sequences = [seq - seq[0] for seq in target_sequences]\n",
    "    \n",
    "    # Convert source sequences to torch tensor\n",
    "    source_tensors = torch.stack([torch.from_numpy(seq) for seq in source_sequences])\n",
    "    \n",
    "    # Convert target sequences to torch tensor\n",
    "    target_tensors = torch.stack([torch.from_numpy(seq) for seq in target_sequences])\n",
    "    \n",
    "    # Create TensorDatasets\n",
    "    source_dataset = TensorDataset(source_tensors)\n",
    "    target_dataset = TensorDataset(target_tensors)\n",
    "\n",
    "    return source_dataset, target_dataset"
   ]
  },
  {
   "cell_type": "code",
   "execution_count": 105,
   "id": "5740d352-569c-4207-92a0-64c2fe434169",
   "metadata": {},
   "outputs": [
    {
     "name": "stdout",
     "output_type": "stream",
     "text": [
      "Source Dataset Shape: torch.Size([2088, 100, 6])\n",
      "Target Dataset Shape: torch.Size([2088, 100, 3])\n"
     ]
    }
   ],
   "source": [
    "data_path = './../dat/merged/'\n",
    "source_dataset, target_dataset = load_dataset(data_path)\n",
    "\n",
    "# Print the shape of the datasets\n",
    "print(\"Source Dataset Shape:\", source_dataset.tensors[0].shape)\n",
    "print(\"Target Dataset Shape:\", target_dataset.tensors[0].shape)"
   ]
  },
  {
   "cell_type": "code",
   "execution_count": 102,
   "id": "5cb93164-0d3a-41d1-92de-efa7a29d6859",
   "metadata": {},
   "outputs": [
    {
     "name": "stderr",
     "output_type": "stream",
     "text": [
      "100%|█████████████████████████████████████████████████████████████████████████████| 2088/2088 [00:08<00:00, 247.64it/s]\n"
     ]
    }
   ],
   "source": [
    "for i in tqdm(range(len(source_sequences))):\n",
    "    np.savetxt(f'./../dat/sequences/s{i}.txt', source_sequences[i], delimiter=' ', comments='')\n",
    "    np.savetxt(f'./../dat/sequences/t{i}.txt', target_sequences[i], delimiter=' ', comments='')"
   ]
  },
  {
   "cell_type": "code",
   "execution_count": null,
   "id": "9018a139-a75d-4ed7-9317-4d861f4183fe",
   "metadata": {},
   "outputs": [],
   "source": []
  }
 ],
 "metadata": {
  "kernelspec": {
   "display_name": "Python 3 (ipykernel)",
   "language": "python",
   "name": "python3"
  },
  "language_info": {
   "codemirror_mode": {
    "name": "ipython",
    "version": 3
   },
   "file_extension": ".py",
   "mimetype": "text/x-python",
   "name": "python",
   "nbconvert_exporter": "python",
   "pygments_lexer": "ipython3",
   "version": "3.10.7"
  }
 },
 "nbformat": 4,
 "nbformat_minor": 5
}
