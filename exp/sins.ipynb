{
 "cells": [
  {
   "cell_type": "code",
   "execution_count": 1,
   "id": "311ccb1a-9002-4531-9fba-b9b1254e0498",
   "metadata": {},
   "outputs": [],
   "source": [
    "import os\n",
    "import numpy as np\n",
    "import pandas as pd\n",
    "from tqdm import tqdm"
   ]
  },
  {
   "cell_type": "code",
   "execution_count": 2,
   "id": "43d7e21e-abc2-4577-a7f6-d3a229a232fa",
   "metadata": {},
   "outputs": [],
   "source": [
    "merged_data_folder = './../dat/merged/'\n",
    "sins_data_folder = './../dat/sins/'"
   ]
  },
  {
   "cell_type": "code",
   "execution_count": 3,
   "id": "8b499249-a255-4c0c-b923-8fe821686937",
   "metadata": {},
   "outputs": [
    {
     "name": "stderr",
     "output_type": "stream",
     "text": [
      "100%|██████████████████████████████████████████████████████████████████████████████████| 35/35 [00:16<00:00,  2.13it/s]\n"
     ]
    }
   ],
   "source": [
    "for sequence_file in tqdm(os.listdir(merged_data_folder)):\n",
    "    # Read sequence data frame\n",
    "    sequence_df = pd.read_csv(merged_data_folder + sequence_file, sep=' ')\n",
    "    \n",
    "    # Initialize velocity and positions\n",
    "    dt = sequence_df['time(us)'].diff() / 1e6\n",
    "    v = np.zeros(3)\n",
    "    p = np.zeros((len(sequence_df), 3))\n",
    "    p[0] = sequence_df.loc[0, ['px', 'py', 'pz']].values\n",
    "    \n",
    "    # Calculate sins_px, sins_py, and sins_pz\n",
    "    for i in range(1, len(sequence_df)):\n",
    "        a = sequence_df.loc[i, ['ax(m/s^2)', 'ay(m/s^2)', 'az(m/s^2)']].values\n",
    "        v = v + a * dt[i]\n",
    "        p[i] = p[i - 1] + v * dt[i] + 0.5 * a * (dt[i] ** 2)\n",
    "    \n",
    "    # Add sins columns to the data frame\n",
    "    sequence_df['sins_px'] = p[:, 0]\n",
    "    sequence_df['sins_py'] = p[:, 1]\n",
    "    sequence_df['sins_pz'] = p[:, 2]\n",
    "    \n",
    "    # Save sins data frames\n",
    "    sequence_name = sequence_file.split('_')[0]\n",
    "    sequence_df.to_csv(sins_data_folder + sequence_file + '_sins.txt', sep=' ', index=False, float_format='%.18e')"
   ]
  },
  {
   "cell_type": "code",
   "execution_count": null,
   "id": "98597bf2-0b04-4745-8ae4-8d3bd1a269f4",
   "metadata": {},
   "outputs": [],
   "source": []
  }
 ],
 "metadata": {
  "kernelspec": {
   "display_name": "Python 3 (ipykernel)",
   "language": "python",
   "name": "python3"
  },
  "language_info": {
   "codemirror_mode": {
    "name": "ipython",
    "version": 3
   },
   "file_extension": ".py",
   "mimetype": "text/x-python",
   "name": "python",
   "nbconvert_exporter": "python",
   "pygments_lexer": "ipython3",
   "version": "3.10.7"
  }
 },
 "nbformat": 4,
 "nbformat_minor": 5
}
